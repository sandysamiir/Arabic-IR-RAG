{
  "cells": [
    {
      "cell_type": "markdown",
      "id": "-81-w7cjz_aQ",
      "metadata": {
        "id": "-81-w7cjz_aQ"
      },
      "source": [
        "# Install important libraries"
      ]
    },
    {
      "cell_type": "code",
      "execution_count": null,
      "id": "WW_IACb64yUT",
      "metadata": {
        "colab": {
          "base_uri": "https://localhost:8080/"
        },
        "id": "WW_IACb64yUT",
        "outputId": "82a1e2a7-bf4a-4812-f2a7-eeab3eef4cef"
      },
      "outputs": [],
      "source": [
        "\n",
        "!pip install faiss-cpu\n",
        "! pip install streamlit -q\n",
        "! pip install -U sentence-transformers\n",
        "!sudo apt-get install poppler-utils tesseract-ocr libmagic-dev\n",
        "!pip install -Uq \"unstructured[pdf]\" pillow lxml\n",
        "!sudo apt-get install tesseract-ocr-ara\n",
        "!pip install google-generativeai"
      ]
    },
    {
      "cell_type": "markdown",
      "id": "8Kdx52PDc-My",
      "metadata": {
        "id": "8Kdx52PDc-My"
      },
      "source": [
        "# Convert PDF to text file"
      ]
    },
    {
      "cell_type": "code",
      "execution_count": null,
      "id": "VQ5uwwupc8XX",
      "metadata": {
        "colab": {
          "base_uri": "https://localhost:8080/",
          "height": 49,
          "referenced_widgets": [
            "a36d85a375dd443ba3867812e9dc8069",
            "14328fcb0385443e8c2b213ba810d9a2",
            "011b05dca88041fd9fe0b7d9f9768935",
            "641f5c54ee6e420789069f5b5262b7c0",
            "3a5eceb2f8494c418887e452a9bb2376",
            "403771faafc046b9bfdbd467c1d1be2f",
            "b8e168382c9c45f99e6ccc2c9bb2a115",
            "c2a7e75e40ec45ee976b4eea593574c8",
            "91cf8c4ceef445c2a14a022a4659a2a6",
            "a0989f2e079247ac84025cc7253b5911",
            "9bd067bb392044758af4fdfde88966d8"
          ]
        },
        "id": "VQ5uwwupc8XX",
        "outputId": "87e0edbf-156e-4155-c76c-c07295206c91"
      },
      "outputs": [],
      "source": [
        "from unstructured.partition.pdf import partition_pdf\n",
        "\n",
        "file_path = '/content/أثر العرب في الحضارة الأوروبية.pdf'\n",
        "\n",
        "# Reference: https://docs.unstructured.io/open-source/core-functionality/chunking\n",
        "chunks = partition_pdf(\n",
        "    filename=file_path,\n",
        "    # infer_table_structure=False,            # extract tables\n",
        "    strategy=\"hi_res\",                     # mandatory to infer tables\n",
        "    languages=[\"ara\", \"eng\"],\n",
        "\n",
        "    # extract_image_block_types=[\"Image\"],   # Add 'Table' to list to extract image of tables\n",
        "    # image_output_dir_path=output_path,   # if None, images and tables will saved in base64\n",
        "\n",
        "    # extract_image_block_to_payload=True,   # if true, will extract base64 for API usage\n",
        "\n",
        "    chunking_strategy=\"basic\",          # or 'basic'\n",
        "    max_characters=10000,                  # defaults to 500\n",
        "    combine_text_under_n_chars=2000,       # defaults to 0\n",
        "    new_after_n_chars=6000,\n",
        "\n",
        ")\n",
        "texts = []\n",
        "texts = [str(chunk) for chunk in chunks if \"CompositeElement\" in str(type(chunk))]\n",
        "\n",
        "# Write to file with double newlines between paragraphs\n",
        "with open(\"أثر العرب في الحضارة الأوروبية.txt\", \"w\", encoding=\"utf-8\") as f:\n",
        "    f.write(\"\\n\\n\".join(texts))"
      ]
    },
    {
      "cell_type": "markdown",
      "id": "4wIEJsVK0PYE",
      "metadata": {
        "id": "4wIEJsVK0PYE"
      },
      "source": [
        "# Split text into paragraphs"
      ]
    },
    {
      "cell_type": "code",
      "execution_count": null,
      "id": "5LS7x4vZGMsS",
      "metadata": {
        "colab": {
          "base_uri": "https://localhost:8080/"
        },
        "id": "5LS7x4vZGMsS",
        "outputId": "9a789808-d0ab-4145-d08d-bf7babfc3d3a"
      },
      "outputs": [],
      "source": [
        "import re\n",
        "import random\n",
        "\n",
        "def enhanced_split_to_paragraphs(text, min_sentences=2, max_sentences=4):\n",
        "    # Normalize and prepare text\n",
        "    text = text.replace('\\n', ' \\n ')\n",
        "    text = re.sub(r'\\s+', ' ', text).strip()\n",
        "\n",
        "    # Split into sentences using Arabic punctuation and newlines\n",
        "    sentence_endings = re.compile(r'(?<=[\\.\\!\\؟\\!،؛\\n])\\s+(?=[^\\s])')\n",
        "    sentences = sentence_endings.split(text)\n",
        "    sentences = [s.strip() for s in sentences if len(s.strip()) > 2]\n",
        "\n",
        "    paragraphs = []\n",
        "    i = 0\n",
        "    while i < len(sentences):\n",
        "        # Choose a random chunk size between min and max\n",
        "        remaining = len(sentences) - i\n",
        "        if remaining < min_sentences:\n",
        "            break\n",
        "        chunk_size = random.randint(min_sentences, min(max_sentences, remaining))\n",
        "        chunk = sentences[i:i + chunk_size]\n",
        "        paragraphs.append(' '.join(chunk))\n",
        "        i += chunk_size\n",
        "\n",
        "    # Add any leftover short sentences to the last paragraph\n",
        "    if i < len(sentences):\n",
        "        if paragraphs:\n",
        "            paragraphs[-1] += ' ' + ' '.join(sentences[i:])\n",
        "        else:\n",
        "            paragraphs.append(' '.join(sentences[i:]))\n",
        "\n",
        "    return paragraphs\n",
        "\n",
        "\n",
        "with open('أثر العرب في الحضارة الأوروبية.txt', 'r', encoding='utf-8') as f:\n",
        "    arabic_text = f.read()\n",
        "\n",
        "paragraphs = enhanced_split_to_paragraphs(arabic_text)\n",
        "\n",
        "print(f\"Total paragraphs created: {len(paragraphs)}\")\n",
        "for i, para in enumerate(paragraphs[:5]):\n",
        "    print(f\"\\nParagraph {i+1}:\\n{para}\")\n",
        "\n",
        "# Save the chunked paragraphs to a text file\n",
        "with open(\"Paragraphs.txt\", \"w\", encoding=\"utf-8\") as f:\n",
        "    for paragraph in paragraphs:\n",
        "        f.write(paragraph + \"\\n\\n\")  # Add double newlines to separate paragraphs\n",
        "\n",
        "print(\"Chunked book saved to 'Paragraphs.txt'.\")"
      ]
    },
    {
      "cell_type": "markdown",
      "id": "a2d3edd3",
      "metadata": {
        "id": "a2d3edd3"
      },
      "source": [
        "# Generate Embeddings"
      ]
    },
    {
      "cell_type": "code",
      "execution_count": null,
      "id": "SpgCWu5ZhvJX",
      "metadata": {
        "colab": {
          "base_uri": "https://localhost:8080/",
          "height": 66,
          "referenced_widgets": [
            "5f405b8d5c92415d93d0c5adf0cade24",
            "b5b3aae477334630b20402093e4b4108",
            "a4da42661670452db35a1cd0bd5ece84",
            "6652d2c156c2463e841b7a758a09b4ee",
            "ce37de65f2774840816e449221f16b84",
            "e6bfa3ca199d47278b7a6afc99ec2179",
            "d00d6e9ba6ef4d129c2c674689845098",
            "c412ed380da4469faf5e34e68a8b94dc",
            "e380f61249114019ba300676d4c2a9a8",
            "2d6cecb3883240b5a09a124f0845ced0",
            "b2af244cce5f4b1094cdc8687ed7b979"
          ]
        },
        "id": "SpgCWu5ZhvJX",
        "outputId": "9eae6173-69c8-4571-f0db-cb551f7ad81d"
      },
      "outputs": [],
      "source": [
        "from sentence_transformers import SentenceTransformer\n",
        "import numpy as np\n",
        "with open(\"/content/Paragraphs.txt\", \"r\", encoding=\"utf-8\") as f:\n",
        "      paragraphs = [p.strip() for p in f.read().split(\"\\n\\n\") if len(p.strip()) > 0]\n",
        "\n",
        "      # Load GATE-AraBert-v1 model\n",
        "      model = SentenceTransformer('sentence-transformers/paraphrase-multilingual-MiniLM-L12-v2')\n",
        "\n",
        "      # Generate embeddings for paragraphs\n",
        "      print(\"Generating paragraph embeddings...\")\n",
        "      paragraph_embeddings = model.encode(paragraphs, show_progress_bar=True)\n",
        "\n",
        "      # Save embeddings for reuse (optional)\n",
        "      np.save(\"paragraph_embeddings.npy\", paragraph_embeddings)\n"
      ]
    },
    {
      "cell_type": "markdown",
      "id": "6_v143Lk1JKo",
      "metadata": {
        "id": "6_v143Lk1JKo"
      },
      "source": [
        "# Indexing with FAISS"
      ]
    },
    {
      "cell_type": "code",
      "execution_count": null,
      "id": "A7W9YCzp0IEv",
      "metadata": {
        "colab": {
          "base_uri": "https://localhost:8080/"
        },
        "id": "A7W9YCzp0IEv",
        "outputId": "4357dbb4-d6ff-45d3-b89e-49e982498d06"
      },
      "outputs": [],
      "source": [
        "import faiss\n",
        "import numpy as np\n",
        "\n",
        "# Load embeddings\n",
        "embeddings = np.load(\"/content/paragraph_embeddings.npy\")\n",
        "# Ensure the embeddings are a proper contiguous float32 NumPy array\n",
        "embeddings = np.ascontiguousarray(embeddings, dtype=np.float32)\n",
        "\n",
        "# Check dtype and shape\n",
        "print(embeddings.dtype)\n",
        "print(embeddings.shape)\n",
        "\n",
        "# Create FAISS index\n",
        "embedding_dim = embeddings.shape[1]\n",
        "# Validate embeddings\n",
        "assert embeddings.ndim == 2, \"Embeddings should be a 2D array.\"\n",
        "assert embeddings.dtype == np.float32, \"Embeddings should be of dtype float32.\"\n",
        "\n",
        "# Validate FAISS index creation\n",
        "try:\n",
        "    index = faiss.IndexFlatL2(embedding_dim)\n",
        "    index.add(embeddings)\n",
        "    faiss.write_index(index, \"faiss_index.bin\")\n",
        "    print(f\"FAISS index created and saved with {index.ntotal} vectors.\")\n",
        "except Exception as e:\n",
        "    print(f\"Error during FAISS indexing: {e}\")"
      ]
    },
    {
      "cell_type": "markdown",
      "id": "-UAZkdeI1Zev",
      "metadata": {
        "id": "-UAZkdeI1Zev"
      },
      "source": [
        "# Run Retrieval System"
      ]
    },
    {
      "cell_type": "code",
      "execution_count": null,
      "id": "dhRjVO5o0pC9",
      "metadata": {
        "colab": {
          "base_uri": "https://localhost:8080/"
        },
        "id": "dhRjVO5o0pC9",
        "outputId": "d76f973a-8cbd-42f3-e3b2-87ea55c9bf8b"
      },
      "outputs": [],
      "source": [
        "\n",
        "!wget -q -O - ipv4.icanhazip.com\n",
        "! streamlit run /content/Retrieval_app.py & npx localtunnel --port 8501"
      ]
    },
    {
      "cell_type": "markdown",
      "id": "uC5q2KY9z1e5",
      "metadata": {
        "id": "uC5q2KY9z1e5"
      },
      "source": [
        "# Set API Key"
      ]
    },
    {
      "cell_type": "code",
      "execution_count": null,
      "id": "DFrsGp2ua2VG",
      "metadata": {
        "id": "DFrsGp2ua2VG"
      },
      "outputs": [],
      "source": [
        "import os\n",
        "os.environ[\"GOOGLE_API_KEY\"] = \"YOUR_API_KEY\""
      ]
    },
    {
      "cell_type": "markdown",
      "id": "7Tu3yzEAAwS2",
      "metadata": {
        "id": "7Tu3yzEAAwS2"
      },
      "source": [
        "# Run RAG System"
      ]
    },
    {
      "cell_type": "code",
      "execution_count": null,
      "id": "eQ34aILqbE1H",
      "metadata": {
        "colab": {
          "base_uri": "https://localhost:8080/"
        },
        "id": "eQ34aILqbE1H",
        "outputId": "d981d833-0fa0-469c-d6bc-704b64416205"
      },
      "outputs": [],
      "source": [
        "\n",
        "!wget -q -O - ipv4.icanhazip.com\n",
        "! streamlit run /content/Rag_app.py & npx localtunnel --port 8501"
      ]
    }
  ],
  "metadata": {
    "colab": {
      "provenance": []
    },
    "kernelspec": {
      "display_name": "Python 3",
      "language": "python",
      "name": "python3"
    },
    "language_info": {
      "codemirror_mode": {
        "name": "ipython",
        "version": 3
      },
      "file_extension": ".py",
      "mimetype": "text/x-python",
      "name": "python",
      "nbconvert_exporter": "python",
      "pygments_lexer": "ipython3",
      "version": "3.10.12"
    },
    "widgets": {
      "application/vnd.jupyter.widget-state+json": {
        "011b05dca88041fd9fe0b7d9f9768935": {
          "model_module": "@jupyter-widgets/controls",
          "model_module_version": "1.5.0",
          "model_name": "FloatProgressModel",
          "state": {
            "_dom_classes": [],
            "_model_module": "@jupyter-widgets/controls",
            "_model_module_version": "1.5.0",
            "_model_name": "FloatProgressModel",
            "_view_count": null,
            "_view_module": "@jupyter-widgets/controls",
            "_view_module_version": "1.5.0",
            "_view_name": "ProgressView",
            "bar_style": "success",
            "description": "",
            "description_tooltip": null,
            "layout": "IPY_MODEL_c2a7e75e40ec45ee976b4eea593574c8",
            "max": 216625723,
            "min": 0,
            "orientation": "horizontal",
            "style": "IPY_MODEL_91cf8c4ceef445c2a14a022a4659a2a6",
            "value": 216625723
          }
        },
        "14328fcb0385443e8c2b213ba810d9a2": {
          "model_module": "@jupyter-widgets/controls",
          "model_module_version": "1.5.0",
          "model_name": "HTMLModel",
          "state": {
            "_dom_classes": [],
            "_model_module": "@jupyter-widgets/controls",
            "_model_module_version": "1.5.0",
            "_model_name": "HTMLModel",
            "_view_count": null,
            "_view_module": "@jupyter-widgets/controls",
            "_view_module_version": "1.5.0",
            "_view_name": "HTMLView",
            "description": "",
            "description_tooltip": null,
            "layout": "IPY_MODEL_403771faafc046b9bfdbd467c1d1be2f",
            "placeholder": "​",
            "style": "IPY_MODEL_b8e168382c9c45f99e6ccc2c9bb2a115",
            "value": "yolox_l0.05.onnx: 100%"
          }
        },
        "2d6cecb3883240b5a09a124f0845ced0": {
          "model_module": "@jupyter-widgets/base",
          "model_module_version": "1.2.0",
          "model_name": "LayoutModel",
          "state": {
            "_model_module": "@jupyter-widgets/base",
            "_model_module_version": "1.2.0",
            "_model_name": "LayoutModel",
            "_view_count": null,
            "_view_module": "@jupyter-widgets/base",
            "_view_module_version": "1.2.0",
            "_view_name": "LayoutView",
            "align_content": null,
            "align_items": null,
            "align_self": null,
            "border": null,
            "bottom": null,
            "display": null,
            "flex": null,
            "flex_flow": null,
            "grid_area": null,
            "grid_auto_columns": null,
            "grid_auto_flow": null,
            "grid_auto_rows": null,
            "grid_column": null,
            "grid_gap": null,
            "grid_row": null,
            "grid_template_areas": null,
            "grid_template_columns": null,
            "grid_template_rows": null,
            "height": null,
            "justify_content": null,
            "justify_items": null,
            "left": null,
            "margin": null,
            "max_height": null,
            "max_width": null,
            "min_height": null,
            "min_width": null,
            "object_fit": null,
            "object_position": null,
            "order": null,
            "overflow": null,
            "overflow_x": null,
            "overflow_y": null,
            "padding": null,
            "right": null,
            "top": null,
            "visibility": null,
            "width": null
          }
        },
        "3a5eceb2f8494c418887e452a9bb2376": {
          "model_module": "@jupyter-widgets/base",
          "model_module_version": "1.2.0",
          "model_name": "LayoutModel",
          "state": {
            "_model_module": "@jupyter-widgets/base",
            "_model_module_version": "1.2.0",
            "_model_name": "LayoutModel",
            "_view_count": null,
            "_view_module": "@jupyter-widgets/base",
            "_view_module_version": "1.2.0",
            "_view_name": "LayoutView",
            "align_content": null,
            "align_items": null,
            "align_self": null,
            "border": null,
            "bottom": null,
            "display": null,
            "flex": null,
            "flex_flow": null,
            "grid_area": null,
            "grid_auto_columns": null,
            "grid_auto_flow": null,
            "grid_auto_rows": null,
            "grid_column": null,
            "grid_gap": null,
            "grid_row": null,
            "grid_template_areas": null,
            "grid_template_columns": null,
            "grid_template_rows": null,
            "height": null,
            "justify_content": null,
            "justify_items": null,
            "left": null,
            "margin": null,
            "max_height": null,
            "max_width": null,
            "min_height": null,
            "min_width": null,
            "object_fit": null,
            "object_position": null,
            "order": null,
            "overflow": null,
            "overflow_x": null,
            "overflow_y": null,
            "padding": null,
            "right": null,
            "top": null,
            "visibility": null,
            "width": null
          }
        },
        "403771faafc046b9bfdbd467c1d1be2f": {
          "model_module": "@jupyter-widgets/base",
          "model_module_version": "1.2.0",
          "model_name": "LayoutModel",
          "state": {
            "_model_module": "@jupyter-widgets/base",
            "_model_module_version": "1.2.0",
            "_model_name": "LayoutModel",
            "_view_count": null,
            "_view_module": "@jupyter-widgets/base",
            "_view_module_version": "1.2.0",
            "_view_name": "LayoutView",
            "align_content": null,
            "align_items": null,
            "align_self": null,
            "border": null,
            "bottom": null,
            "display": null,
            "flex": null,
            "flex_flow": null,
            "grid_area": null,
            "grid_auto_columns": null,
            "grid_auto_flow": null,
            "grid_auto_rows": null,
            "grid_column": null,
            "grid_gap": null,
            "grid_row": null,
            "grid_template_areas": null,
            "grid_template_columns": null,
            "grid_template_rows": null,
            "height": null,
            "justify_content": null,
            "justify_items": null,
            "left": null,
            "margin": null,
            "max_height": null,
            "max_width": null,
            "min_height": null,
            "min_width": null,
            "object_fit": null,
            "object_position": null,
            "order": null,
            "overflow": null,
            "overflow_x": null,
            "overflow_y": null,
            "padding": null,
            "right": null,
            "top": null,
            "visibility": null,
            "width": null
          }
        },
        "5f405b8d5c92415d93d0c5adf0cade24": {
          "model_module": "@jupyter-widgets/controls",
          "model_module_version": "1.5.0",
          "model_name": "HBoxModel",
          "state": {
            "_dom_classes": [],
            "_model_module": "@jupyter-widgets/controls",
            "_model_module_version": "1.5.0",
            "_model_name": "HBoxModel",
            "_view_count": null,
            "_view_module": "@jupyter-widgets/controls",
            "_view_module_version": "1.5.0",
            "_view_name": "HBoxView",
            "box_style": "",
            "children": [
              "IPY_MODEL_b5b3aae477334630b20402093e4b4108",
              "IPY_MODEL_a4da42661670452db35a1cd0bd5ece84",
              "IPY_MODEL_6652d2c156c2463e841b7a758a09b4ee"
            ],
            "layout": "IPY_MODEL_ce37de65f2774840816e449221f16b84"
          }
        },
        "641f5c54ee6e420789069f5b5262b7c0": {
          "model_module": "@jupyter-widgets/controls",
          "model_module_version": "1.5.0",
          "model_name": "HTMLModel",
          "state": {
            "_dom_classes": [],
            "_model_module": "@jupyter-widgets/controls",
            "_model_module_version": "1.5.0",
            "_model_name": "HTMLModel",
            "_view_count": null,
            "_view_module": "@jupyter-widgets/controls",
            "_view_module_version": "1.5.0",
            "_view_name": "HTMLView",
            "description": "",
            "description_tooltip": null,
            "layout": "IPY_MODEL_a0989f2e079247ac84025cc7253b5911",
            "placeholder": "​",
            "style": "IPY_MODEL_9bd067bb392044758af4fdfde88966d8",
            "value": " 217M/217M [00:01&lt;00:00, 137MB/s]"
          }
        },
        "6652d2c156c2463e841b7a758a09b4ee": {
          "model_module": "@jupyter-widgets/controls",
          "model_module_version": "1.5.0",
          "model_name": "HTMLModel",
          "state": {
            "_dom_classes": [],
            "_model_module": "@jupyter-widgets/controls",
            "_model_module_version": "1.5.0",
            "_model_name": "HTMLModel",
            "_view_count": null,
            "_view_module": "@jupyter-widgets/controls",
            "_view_module_version": "1.5.0",
            "_view_name": "HTMLView",
            "description": "",
            "description_tooltip": null,
            "layout": "IPY_MODEL_2d6cecb3883240b5a09a124f0845ced0",
            "placeholder": "​",
            "style": "IPY_MODEL_b2af244cce5f4b1094cdc8687ed7b979",
            "value": " 14/14 [00:57&lt;00:00,  2.58s/it]"
          }
        },
        "91cf8c4ceef445c2a14a022a4659a2a6": {
          "model_module": "@jupyter-widgets/controls",
          "model_module_version": "1.5.0",
          "model_name": "ProgressStyleModel",
          "state": {
            "_model_module": "@jupyter-widgets/controls",
            "_model_module_version": "1.5.0",
            "_model_name": "ProgressStyleModel",
            "_view_count": null,
            "_view_module": "@jupyter-widgets/base",
            "_view_module_version": "1.2.0",
            "_view_name": "StyleView",
            "bar_color": null,
            "description_width": ""
          }
        },
        "9bd067bb392044758af4fdfde88966d8": {
          "model_module": "@jupyter-widgets/controls",
          "model_module_version": "1.5.0",
          "model_name": "DescriptionStyleModel",
          "state": {
            "_model_module": "@jupyter-widgets/controls",
            "_model_module_version": "1.5.0",
            "_model_name": "DescriptionStyleModel",
            "_view_count": null,
            "_view_module": "@jupyter-widgets/base",
            "_view_module_version": "1.2.0",
            "_view_name": "StyleView",
            "description_width": ""
          }
        },
        "a0989f2e079247ac84025cc7253b5911": {
          "model_module": "@jupyter-widgets/base",
          "model_module_version": "1.2.0",
          "model_name": "LayoutModel",
          "state": {
            "_model_module": "@jupyter-widgets/base",
            "_model_module_version": "1.2.0",
            "_model_name": "LayoutModel",
            "_view_count": null,
            "_view_module": "@jupyter-widgets/base",
            "_view_module_version": "1.2.0",
            "_view_name": "LayoutView",
            "align_content": null,
            "align_items": null,
            "align_self": null,
            "border": null,
            "bottom": null,
            "display": null,
            "flex": null,
            "flex_flow": null,
            "grid_area": null,
            "grid_auto_columns": null,
            "grid_auto_flow": null,
            "grid_auto_rows": null,
            "grid_column": null,
            "grid_gap": null,
            "grid_row": null,
            "grid_template_areas": null,
            "grid_template_columns": null,
            "grid_template_rows": null,
            "height": null,
            "justify_content": null,
            "justify_items": null,
            "left": null,
            "margin": null,
            "max_height": null,
            "max_width": null,
            "min_height": null,
            "min_width": null,
            "object_fit": null,
            "object_position": null,
            "order": null,
            "overflow": null,
            "overflow_x": null,
            "overflow_y": null,
            "padding": null,
            "right": null,
            "top": null,
            "visibility": null,
            "width": null
          }
        },
        "a36d85a375dd443ba3867812e9dc8069": {
          "model_module": "@jupyter-widgets/controls",
          "model_module_version": "1.5.0",
          "model_name": "HBoxModel",
          "state": {
            "_dom_classes": [],
            "_model_module": "@jupyter-widgets/controls",
            "_model_module_version": "1.5.0",
            "_model_name": "HBoxModel",
            "_view_count": null,
            "_view_module": "@jupyter-widgets/controls",
            "_view_module_version": "1.5.0",
            "_view_name": "HBoxView",
            "box_style": "",
            "children": [
              "IPY_MODEL_14328fcb0385443e8c2b213ba810d9a2",
              "IPY_MODEL_011b05dca88041fd9fe0b7d9f9768935",
              "IPY_MODEL_641f5c54ee6e420789069f5b5262b7c0"
            ],
            "layout": "IPY_MODEL_3a5eceb2f8494c418887e452a9bb2376"
          }
        },
        "a4da42661670452db35a1cd0bd5ece84": {
          "model_module": "@jupyter-widgets/controls",
          "model_module_version": "1.5.0",
          "model_name": "FloatProgressModel",
          "state": {
            "_dom_classes": [],
            "_model_module": "@jupyter-widgets/controls",
            "_model_module_version": "1.5.0",
            "_model_name": "FloatProgressModel",
            "_view_count": null,
            "_view_module": "@jupyter-widgets/controls",
            "_view_module_version": "1.5.0",
            "_view_name": "ProgressView",
            "bar_style": "success",
            "description": "",
            "description_tooltip": null,
            "layout": "IPY_MODEL_c412ed380da4469faf5e34e68a8b94dc",
            "max": 14,
            "min": 0,
            "orientation": "horizontal",
            "style": "IPY_MODEL_e380f61249114019ba300676d4c2a9a8",
            "value": 14
          }
        },
        "b2af244cce5f4b1094cdc8687ed7b979": {
          "model_module": "@jupyter-widgets/controls",
          "model_module_version": "1.5.0",
          "model_name": "DescriptionStyleModel",
          "state": {
            "_model_module": "@jupyter-widgets/controls",
            "_model_module_version": "1.5.0",
            "_model_name": "DescriptionStyleModel",
            "_view_count": null,
            "_view_module": "@jupyter-widgets/base",
            "_view_module_version": "1.2.0",
            "_view_name": "StyleView",
            "description_width": ""
          }
        },
        "b5b3aae477334630b20402093e4b4108": {
          "model_module": "@jupyter-widgets/controls",
          "model_module_version": "1.5.0",
          "model_name": "HTMLModel",
          "state": {
            "_dom_classes": [],
            "_model_module": "@jupyter-widgets/controls",
            "_model_module_version": "1.5.0",
            "_model_name": "HTMLModel",
            "_view_count": null,
            "_view_module": "@jupyter-widgets/controls",
            "_view_module_version": "1.5.0",
            "_view_name": "HTMLView",
            "description": "",
            "description_tooltip": null,
            "layout": "IPY_MODEL_e6bfa3ca199d47278b7a6afc99ec2179",
            "placeholder": "​",
            "style": "IPY_MODEL_d00d6e9ba6ef4d129c2c674689845098",
            "value": "Batches: 100%"
          }
        },
        "b8e168382c9c45f99e6ccc2c9bb2a115": {
          "model_module": "@jupyter-widgets/controls",
          "model_module_version": "1.5.0",
          "model_name": "DescriptionStyleModel",
          "state": {
            "_model_module": "@jupyter-widgets/controls",
            "_model_module_version": "1.5.0",
            "_model_name": "DescriptionStyleModel",
            "_view_count": null,
            "_view_module": "@jupyter-widgets/base",
            "_view_module_version": "1.2.0",
            "_view_name": "StyleView",
            "description_width": ""
          }
        },
        "c2a7e75e40ec45ee976b4eea593574c8": {
          "model_module": "@jupyter-widgets/base",
          "model_module_version": "1.2.0",
          "model_name": "LayoutModel",
          "state": {
            "_model_module": "@jupyter-widgets/base",
            "_model_module_version": "1.2.0",
            "_model_name": "LayoutModel",
            "_view_count": null,
            "_view_module": "@jupyter-widgets/base",
            "_view_module_version": "1.2.0",
            "_view_name": "LayoutView",
            "align_content": null,
            "align_items": null,
            "align_self": null,
            "border": null,
            "bottom": null,
            "display": null,
            "flex": null,
            "flex_flow": null,
            "grid_area": null,
            "grid_auto_columns": null,
            "grid_auto_flow": null,
            "grid_auto_rows": null,
            "grid_column": null,
            "grid_gap": null,
            "grid_row": null,
            "grid_template_areas": null,
            "grid_template_columns": null,
            "grid_template_rows": null,
            "height": null,
            "justify_content": null,
            "justify_items": null,
            "left": null,
            "margin": null,
            "max_height": null,
            "max_width": null,
            "min_height": null,
            "min_width": null,
            "object_fit": null,
            "object_position": null,
            "order": null,
            "overflow": null,
            "overflow_x": null,
            "overflow_y": null,
            "padding": null,
            "right": null,
            "top": null,
            "visibility": null,
            "width": null
          }
        },
        "c412ed380da4469faf5e34e68a8b94dc": {
          "model_module": "@jupyter-widgets/base",
          "model_module_version": "1.2.0",
          "model_name": "LayoutModel",
          "state": {
            "_model_module": "@jupyter-widgets/base",
            "_model_module_version": "1.2.0",
            "_model_name": "LayoutModel",
            "_view_count": null,
            "_view_module": "@jupyter-widgets/base",
            "_view_module_version": "1.2.0",
            "_view_name": "LayoutView",
            "align_content": null,
            "align_items": null,
            "align_self": null,
            "border": null,
            "bottom": null,
            "display": null,
            "flex": null,
            "flex_flow": null,
            "grid_area": null,
            "grid_auto_columns": null,
            "grid_auto_flow": null,
            "grid_auto_rows": null,
            "grid_column": null,
            "grid_gap": null,
            "grid_row": null,
            "grid_template_areas": null,
            "grid_template_columns": null,
            "grid_template_rows": null,
            "height": null,
            "justify_content": null,
            "justify_items": null,
            "left": null,
            "margin": null,
            "max_height": null,
            "max_width": null,
            "min_height": null,
            "min_width": null,
            "object_fit": null,
            "object_position": null,
            "order": null,
            "overflow": null,
            "overflow_x": null,
            "overflow_y": null,
            "padding": null,
            "right": null,
            "top": null,
            "visibility": null,
            "width": null
          }
        },
        "ce37de65f2774840816e449221f16b84": {
          "model_module": "@jupyter-widgets/base",
          "model_module_version": "1.2.0",
          "model_name": "LayoutModel",
          "state": {
            "_model_module": "@jupyter-widgets/base",
            "_model_module_version": "1.2.0",
            "_model_name": "LayoutModel",
            "_view_count": null,
            "_view_module": "@jupyter-widgets/base",
            "_view_module_version": "1.2.0",
            "_view_name": "LayoutView",
            "align_content": null,
            "align_items": null,
            "align_self": null,
            "border": null,
            "bottom": null,
            "display": null,
            "flex": null,
            "flex_flow": null,
            "grid_area": null,
            "grid_auto_columns": null,
            "grid_auto_flow": null,
            "grid_auto_rows": null,
            "grid_column": null,
            "grid_gap": null,
            "grid_row": null,
            "grid_template_areas": null,
            "grid_template_columns": null,
            "grid_template_rows": null,
            "height": null,
            "justify_content": null,
            "justify_items": null,
            "left": null,
            "margin": null,
            "max_height": null,
            "max_width": null,
            "min_height": null,
            "min_width": null,
            "object_fit": null,
            "object_position": null,
            "order": null,
            "overflow": null,
            "overflow_x": null,
            "overflow_y": null,
            "padding": null,
            "right": null,
            "top": null,
            "visibility": null,
            "width": null
          }
        },
        "d00d6e9ba6ef4d129c2c674689845098": {
          "model_module": "@jupyter-widgets/controls",
          "model_module_version": "1.5.0",
          "model_name": "DescriptionStyleModel",
          "state": {
            "_model_module": "@jupyter-widgets/controls",
            "_model_module_version": "1.5.0",
            "_model_name": "DescriptionStyleModel",
            "_view_count": null,
            "_view_module": "@jupyter-widgets/base",
            "_view_module_version": "1.2.0",
            "_view_name": "StyleView",
            "description_width": ""
          }
        },
        "e380f61249114019ba300676d4c2a9a8": {
          "model_module": "@jupyter-widgets/controls",
          "model_module_version": "1.5.0",
          "model_name": "ProgressStyleModel",
          "state": {
            "_model_module": "@jupyter-widgets/controls",
            "_model_module_version": "1.5.0",
            "_model_name": "ProgressStyleModel",
            "_view_count": null,
            "_view_module": "@jupyter-widgets/base",
            "_view_module_version": "1.2.0",
            "_view_name": "StyleView",
            "bar_color": null,
            "description_width": ""
          }
        },
        "e6bfa3ca199d47278b7a6afc99ec2179": {
          "model_module": "@jupyter-widgets/base",
          "model_module_version": "1.2.0",
          "model_name": "LayoutModel",
          "state": {
            "_model_module": "@jupyter-widgets/base",
            "_model_module_version": "1.2.0",
            "_model_name": "LayoutModel",
            "_view_count": null,
            "_view_module": "@jupyter-widgets/base",
            "_view_module_version": "1.2.0",
            "_view_name": "LayoutView",
            "align_content": null,
            "align_items": null,
            "align_self": null,
            "border": null,
            "bottom": null,
            "display": null,
            "flex": null,
            "flex_flow": null,
            "grid_area": null,
            "grid_auto_columns": null,
            "grid_auto_flow": null,
            "grid_auto_rows": null,
            "grid_column": null,
            "grid_gap": null,
            "grid_row": null,
            "grid_template_areas": null,
            "grid_template_columns": null,
            "grid_template_rows": null,
            "height": null,
            "justify_content": null,
            "justify_items": null,
            "left": null,
            "margin": null,
            "max_height": null,
            "max_width": null,
            "min_height": null,
            "min_width": null,
            "object_fit": null,
            "object_position": null,
            "order": null,
            "overflow": null,
            "overflow_x": null,
            "overflow_y": null,
            "padding": null,
            "right": null,
            "top": null,
            "visibility": null,
            "width": null
          }
        }
      }
    }
  },
  "nbformat": 4,
  "nbformat_minor": 5
}
